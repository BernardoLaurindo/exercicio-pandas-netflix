{
  "nbformat": 4,
  "nbformat_minor": 0,
  "metadata": {
    "colab": {
      "provenance": [],
      "toc_visible": true
    },
    "kernelspec": {
      "name": "python3",
      "display_name": "Python 3"
    },
    "language_info": {
      "name": "python"
    }
  },
  "cells": [
    {
      "cell_type": "markdown",
      "source": [
        "### 1. Importe a biblioteca pandas e carregue o dataset:"
      ],
      "metadata": {
        "id": "dN7bJQJmDr8q"
      }
    },
    {
      "cell_type": "code",
      "source": [
        "import pandas as pd\n",
        "\n",
        "df = pd.read_csv(\"netflix1.csv\")"
      ],
      "metadata": {
        "id": "gdAghf0nDOte"
      },
      "execution_count": 3,
      "outputs": []
    },
    {
      "cell_type": "markdown",
      "source": [
        "### 2. Exiba as primeiras 10 linhas do dataframe:"
      ],
      "metadata": {
        "id": "aTg-1BNtDxBL"
      }
    },
    {
      "cell_type": "code",
      "source": [
        "print(df.head(10))"
      ],
      "metadata": {
        "colab": {
          "base_uri": "https://localhost:8080/"
        },
        "id": "fXEaoPJLD4v2",
        "outputId": "e0185b9d-f8cd-41d9-ff8b-a5ca834fa5eb"
      },
      "execution_count": 4,
      "outputs": [
        {
          "output_type": "stream",
          "name": "stdout",
          "text": [
            "  show_id     type                             title             director  \\\n",
            "0      s1    Movie              Dick Johnson Is Dead      Kirsten Johnson   \n",
            "1      s3  TV Show                         Ganglands      Julien Leclercq   \n",
            "2      s6  TV Show                     Midnight Mass        Mike Flanagan   \n",
            "3     s14    Movie  Confessions of an Invisible Girl        Bruno Garotti   \n",
            "4      s8    Movie                           Sankofa         Haile Gerima   \n",
            "5      s9  TV Show     The Great British Baking Show      Andy Devonshire   \n",
            "6     s10    Movie                      The Starling       Theodore Melfi   \n",
            "7    s939    Movie   Motu Patlu in the Game of Zones          Suhas Kadav   \n",
            "8     s13    Movie                      Je Suis Karl  Christian Schwochow   \n",
            "9    s940    Movie          Motu Patlu in Wonderland          Suhas Kadav   \n",
            "\n",
            "          country date_added  release_year rating   duration  \\\n",
            "0   United States  9/25/2021          2020  PG-13     90 min   \n",
            "1          France  9/24/2021          2021  TV-MA   1 Season   \n",
            "2   United States  9/24/2021          2021  TV-MA   1 Season   \n",
            "3          Brazil  9/22/2021          2021  TV-PG     91 min   \n",
            "4   United States  9/24/2021          1993  TV-MA    125 min   \n",
            "5  United Kingdom  9/24/2021          2021  TV-14  9 Seasons   \n",
            "6   United States  9/24/2021          2021  PG-13    104 min   \n",
            "7           India   5/1/2021          2019  TV-Y7     87 min   \n",
            "8         Germany  9/23/2021          2021  TV-MA    127 min   \n",
            "9           India   5/1/2021          2013  TV-Y7     76 min   \n",
            "\n",
            "                                           listed_in  \n",
            "0                                      Documentaries  \n",
            "1  Crime TV Shows, International TV Shows, TV Act...  \n",
            "2                 TV Dramas, TV Horror, TV Mysteries  \n",
            "3                 Children & Family Movies, Comedies  \n",
            "4   Dramas, Independent Movies, International Movies  \n",
            "5                       British TV Shows, Reality TV  \n",
            "6                                   Comedies, Dramas  \n",
            "7  Children & Family Movies, Comedies, Music & Mu...  \n",
            "8                       Dramas, International Movies  \n",
            "9         Children & Family Movies, Music & Musicals  \n"
          ]
        }
      ]
    },
    {
      "cell_type": "markdown",
      "source": [
        "### 3. Verifique o tipo de cada coluna e se possuem valores ausentes:"
      ],
      "metadata": {
        "id": "qWpSx-bhD7VI"
      }
    },
    {
      "cell_type": "code",
      "source": [
        "print(df.info())\n",
        "print(df.isnull().sum())"
      ],
      "metadata": {
        "colab": {
          "base_uri": "https://localhost:8080/"
        },
        "id": "RcX55xpAD-sJ",
        "outputId": "fdb9b0f1-38f4-48f1-832f-1e5997046d22"
      },
      "execution_count": 5,
      "outputs": [
        {
          "output_type": "stream",
          "name": "stdout",
          "text": [
            "<class 'pandas.core.frame.DataFrame'>\n",
            "RangeIndex: 8790 entries, 0 to 8789\n",
            "Data columns (total 10 columns):\n",
            " #   Column        Non-Null Count  Dtype \n",
            "---  ------        --------------  ----- \n",
            " 0   show_id       8790 non-null   object\n",
            " 1   type          8790 non-null   object\n",
            " 2   title         8790 non-null   object\n",
            " 3   director      8790 non-null   object\n",
            " 4   country       8790 non-null   object\n",
            " 5   date_added    8790 non-null   object\n",
            " 6   release_year  8790 non-null   int64 \n",
            " 7   rating        8790 non-null   object\n",
            " 8   duration      8790 non-null   object\n",
            " 9   listed_in     8790 non-null   object\n",
            "dtypes: int64(1), object(9)\n",
            "memory usage: 686.8+ KB\n",
            "None\n",
            "show_id         0\n",
            "type            0\n",
            "title           0\n",
            "director        0\n",
            "country         0\n",
            "date_added      0\n",
            "release_year    0\n",
            "rating          0\n",
            "duration        0\n",
            "listed_in       0\n",
            "dtype: int64\n"
          ]
        }
      ]
    },
    {
      "cell_type": "markdown",
      "source": [
        "### 4. Obtenha estatísticas descritivas das colunas numéricas:"
      ],
      "metadata": {
        "id": "MXeQWc2wEBMf"
      }
    },
    {
      "cell_type": "code",
      "source": [
        "print(df.describe())"
      ],
      "metadata": {
        "colab": {
          "base_uri": "https://localhost:8080/"
        },
        "id": "WyZKc-0REESS",
        "outputId": "36cbce87-54ee-4086-9c7f-a49e02f88275"
      },
      "execution_count": 6,
      "outputs": [
        {
          "output_type": "stream",
          "name": "stdout",
          "text": [
            "       release_year\n",
            "count   8790.000000\n",
            "mean    2014.183163\n",
            "std        8.825466\n",
            "min     1925.000000\n",
            "25%     2013.000000\n",
            "50%     2017.000000\n",
            "75%     2019.000000\n",
            "max     2021.000000\n"
          ]
        }
      ]
    },
    {
      "cell_type": "markdown",
      "source": [
        "### 5. Converta a coluna 'date_added' para datetime:"
      ],
      "metadata": {
        "id": "cCWs20G9EIGP"
      }
    },
    {
      "cell_type": "code",
      "source": [
        "df['date_added'] = pd.to_datetime(df['date_added'])"
      ],
      "metadata": {
        "id": "gFB7YRXpEJoM"
      },
      "execution_count": 7,
      "outputs": []
    },
    {
      "cell_type": "markdown",
      "source": [
        "### 6. Crie as colunas 'month_added' e 'year_added':"
      ],
      "metadata": {
        "id": "Y5PPRWZ0EO6q"
      }
    },
    {
      "cell_type": "code",
      "source": [
        "df['month_added'] = df['date_added'].dt.month\n",
        "df['year_added'] = df['date_added'].dt.year"
      ],
      "metadata": {
        "id": "qWXga0CSETYm"
      },
      "execution_count": 8,
      "outputs": []
    },
    {
      "cell_type": "markdown",
      "source": [
        "### 7. Conte quantos títulos há por tipo:"
      ],
      "metadata": {
        "id": "xQGtjk8AEVqD"
      }
    },
    {
      "cell_type": "code",
      "source": [
        "print(df['type'].value_counts())"
      ],
      "metadata": {
        "colab": {
          "base_uri": "https://localhost:8080/"
        },
        "id": "zEMGoSicEXJO",
        "outputId": "bc7e6a46-d616-4198-f4bb-6a1a59ce1a00"
      },
      "execution_count": 9,
      "outputs": [
        {
          "output_type": "stream",
          "name": "stdout",
          "text": [
            "type\n",
            "Movie      6126\n",
            "TV Show    2664\n",
            "Name: count, dtype: int64\n"
          ]
        }
      ]
    },
    {
      "cell_type": "markdown",
      "source": [
        "### 8. Filtre os filmes com duração > 100 min e lançados a partir de 2020:"
      ],
      "metadata": {
        "id": "tkpRYPBXEZu9"
      }
    },
    {
      "cell_type": "code",
      "source": [
        "df_filmes = df[df['type'] == 'Movie']\n",
        "df_filmes['duration_int'] = df_filmes['duration'].str.extract('(\\d+)').astype(float)\n",
        "df_filmes_filtrados = df_filmes[\n",
        "    (df_filmes['duration_int'] > 100) & (df_filmes['release_year'] >= 2020)\n",
        "]\n",
        "print(df_filmes_filtrados[['title', 'duration', 'release_year']])"
      ],
      "metadata": {
        "colab": {
          "base_uri": "https://localhost:8080/"
        },
        "id": "-IMSLFdFEdLE",
        "outputId": "b404cc15-bd0a-4366-8194-bcc8cd239e4f"
      },
      "execution_count": 10,
      "outputs": [
        {
          "output_type": "stream",
          "name": "stdout",
          "text": [
            "                                   title duration  release_year\n",
            "6                           The Starling  104 min          2021\n",
            "8                           Je Suis Karl  127 min          2021\n",
            "12                      99 Songs (Tamil)  131 min          2021\n",
            "54                       Ankahi Kahaniya  111 min          2021\n",
            "55        The Father Who Moves Mountains  110 min          2021\n",
            "...                                  ...      ...           ...\n",
            "6675                         Last Summer  102 min          2021\n",
            "6967                   Leyla Everlasting  113 min          2020\n",
            "7079                      Rising Phoenix  107 min          2020\n",
            "7202                          Disclosure  108 min          2020\n",
            "7311  Crip Camp: A Disability Revolution  108 min          2020\n",
            "\n",
            "[339 rows x 3 columns]\n"
          ]
        },
        {
          "output_type": "stream",
          "name": "stderr",
          "text": [
            "<ipython-input-10-7a0676bd451d>:2: SettingWithCopyWarning: \n",
            "A value is trying to be set on a copy of a slice from a DataFrame.\n",
            "Try using .loc[row_indexer,col_indexer] = value instead\n",
            "\n",
            "See the caveats in the documentation: https://pandas.pydata.org/pandas-docs/stable/user_guide/indexing.html#returning-a-view-versus-a-copy\n",
            "  df_filmes['duration_int'] = df_filmes['duration'].str.extract('(\\d+)').astype(float)\n"
          ]
        }
      ]
    },
    {
      "cell_type": "markdown",
      "source": [
        "### 9. Separe a coluna 'duration' em 'duration_int' e 'duration_unit':"
      ],
      "metadata": {
        "id": "yR-T9T0nEgGd"
      }
    },
    {
      "cell_type": "code",
      "source": [
        "df[['duration_int', 'duration_unit']] = df['duration'].str.extract(r'(\\d+)\\s*(\\D+)')\n",
        "df['duration_int'] = pd.to_numeric(df['duration_int'], errors='coerce')"
      ],
      "metadata": {
        "id": "VuYmaD-aEjjA"
      },
      "execution_count": 11,
      "outputs": []
    },
    {
      "cell_type": "markdown",
      "source": [
        "### 10. Crie a coluna ‘seasons_int’ para as linhas TV Show:"
      ],
      "metadata": {
        "id": "YwKu9lThEmFz"
      }
    },
    {
      "cell_type": "code",
      "source": [
        "df['seasons_int'] = df.apply(\n",
        "    lambda row: row['duration_int'] if row['type'] == 'TV Show' else None, axis=1\n",
        ")"
      ],
      "metadata": {
        "id": "0C2I6xm5Eq_L"
      },
      "execution_count": 12,
      "outputs": []
    },
    {
      "cell_type": "markdown",
      "source": [
        "### 11. Série com mais temporadas e filme com maior tempo de duração:"
      ],
      "metadata": {
        "id": "LdheUHxaEr6W"
      }
    },
    {
      "cell_type": "code",
      "source": [
        "serie_maior = df[df['type'] == 'TV Show'].sort_values(by='seasons_int', ascending=False).head(1)\n",
        "filme_maior = df[df['type'] == 'Movie'].sort_values(by='duration_int', ascending=False).head(1)\n",
        "print(\"Série com mais temporadas:\")\n",
        "print(serie_maior[['title', 'seasons_int']])\n",
        "print(\"Filme com maior duração:\")\n",
        "print(filme_maior[['title', 'duration_int']])"
      ],
      "metadata": {
        "colab": {
          "base_uri": "https://localhost:8080/"
        },
        "id": "w9Q51s-5EvDB",
        "outputId": "68e73b0c-cabe-403e-eff1-bd35f1131ad2"
      },
      "execution_count": 13,
      "outputs": [
        {
          "output_type": "stream",
          "name": "stdout",
          "text": [
            "Série com mais temporadas:\n",
            "               title  seasons_int\n",
            "6697  Grey's Anatomy         17.0\n",
            "Filme com maior duração:\n",
            "                           title  duration_int\n",
            "7822  Black Mirror: Bandersnatch           312\n"
          ]
        }
      ]
    },
    {
      "cell_type": "markdown",
      "source": [
        "### 12. Agrupe por 'rating' e conte os títulos:"
      ],
      "metadata": {
        "id": "lr5eMAlLExk2"
      }
    },
    {
      "cell_type": "code",
      "source": [
        "print(df['rating'].value_counts())"
      ],
      "metadata": {
        "colab": {
          "base_uri": "https://localhost:8080/"
        },
        "id": "3fnVp01kE0eV",
        "outputId": "461c4595-e51a-47cc-bf77-e1c653f3ae6b"
      },
      "execution_count": 14,
      "outputs": [
        {
          "output_type": "stream",
          "name": "stdout",
          "text": [
            "rating\n",
            "TV-MA       3205\n",
            "TV-14       2157\n",
            "TV-PG        861\n",
            "R            799\n",
            "PG-13        490\n",
            "TV-Y7        333\n",
            "TV-Y         306\n",
            "PG           287\n",
            "TV-G         220\n",
            "NR            79\n",
            "G             41\n",
            "TV-Y7-FV       6\n",
            "NC-17          3\n",
            "UR             3\n",
            "Name: count, dtype: int64\n"
          ]
        }
      ]
    },
    {
      "cell_type": "markdown",
      "source": [
        "\n",
        "### 13. Top 5 diretores com mais títulos:"
      ],
      "metadata": {
        "id": "lgoiGYh6E3S8"
      }
    },
    {
      "cell_type": "code",
      "source": [
        "print(df['director'].value_counts().head(5))"
      ],
      "metadata": {
        "colab": {
          "base_uri": "https://localhost:8080/"
        },
        "id": "35kXxGIVE6Md",
        "outputId": "b57b7c33-5b9f-4a6a-dcf1-fe81f036829a"
      },
      "execution_count": 15,
      "outputs": [
        {
          "output_type": "stream",
          "name": "stdout",
          "text": [
            "director\n",
            "Not Given                 2588\n",
            "Rajiv Chilaka               20\n",
            "Alastair Fothergill         18\n",
            "Raúl Campos, Jan Suter      18\n",
            "Marcus Raboy                16\n",
            "Name: count, dtype: int64\n"
          ]
        }
      ]
    },
    {
      "cell_type": "markdown",
      "source": [
        "### Hipótese\n",
        "\n",
        "\"A maioria dos títulos adicionados em 2021 são da Índia, indicando uma possível estratégia de expansão da Netflix no mercado asiático.\"\n",
        "\n",
        "### Verificação:\n",
        "```python\n",
        "df_2021 = df[df['year_added'] == 2021]\n",
        "top_countries = df_2021['country'].value_counts().head(5)\n",
        "print(top_countries)\n"
      ],
      "metadata": {
        "id": "hojNWCAXE8a7"
      }
    }
  ]
}